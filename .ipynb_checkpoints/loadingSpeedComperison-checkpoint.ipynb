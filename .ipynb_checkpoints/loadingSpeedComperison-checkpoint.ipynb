{
 "cells": [
  {
   "cell_type": "code",
   "execution_count": 1,
   "id": "f2e87c8f",
   "metadata": {},
   "outputs": [],
   "source": [
    "import rasterio as rio\n",
    "from rasterio.windows import Window\n",
    "from rasterio.windows import from_bounds\n",
    "from rasterio.enums import Resampling\n",
    "\n",
    "\n",
    "import time\n",
    "import os, glob\n",
    "import numpy as np\n",
    "import h5py\n",
    "import matplotlib.pyplot as plt\n",
    "from tqdm.notebook import tqdm"
   ]
  },
  {
   "cell_type": "code",
   "execution_count": 2,
   "id": "a46e81fc",
   "metadata": {},
   "outputs": [],
   "source": [
    "numTrys = 128\n",
    "patchsize = 256\n",
    "tempdir = \"./tmp\"\n",
    "os.makedirs(tempdir,exist_ok=True)"
   ]
  },
  {
   "cell_type": "markdown",
   "id": "80b5b850",
   "metadata": {},
   "source": [
    "# Loading from the default .jp2 files\n",
    "All bands stored in seperate files and upsampling takes place during loading.\n",
    "\n",
    "This is default methode without any preprocessing or change of data format."
   ]
  },
  {
   "cell_type": "code",
   "execution_count": 3,
   "id": "b490009b",
   "metadata": {},
   "outputs": [],
   "source": [
    "def get_S2_locations(s2_dir):\n",
    "    \n",
    "    # get S2 image\n",
    "    s2_b01 = glob.glob(os.path.join(s2_dir,\"**\",\"*B01_60m.jp2\"),recursive=True)\n",
    "    s2_b02 = glob.glob(os.path.join(s2_dir,\"**\",\"*B02_10m.jp2\"),recursive=True)\n",
    "    s2_b03 = glob.glob(os.path.join(s2_dir,\"**\",\"*B03_10m.jp2\"),recursive=True)\n",
    "    s2_b04 = glob.glob(os.path.join(s2_dir,\"**\",\"*B04_10m.jp2\"),recursive=True)\n",
    "    s2_b05 = glob.glob(os.path.join(s2_dir,\"**\",\"*B05_20m.jp2\"),recursive=True)\n",
    "    s2_b06 = glob.glob(os.path.join(s2_dir,\"**\",\"*B06_20m.jp2\"),recursive=True)\n",
    "    s2_b07 = glob.glob(os.path.join(s2_dir,\"**\",\"*B07_20m.jp2\"),recursive=True)\n",
    "    s2_b08 = glob.glob(os.path.join(s2_dir,\"**\",\"*B08_10m.jp2\"),recursive=True)\n",
    "    s2_b8a = glob.glob(os.path.join(s2_dir,\"**\",\"*B8A_20m.jp2\"),recursive=True)\n",
    "    s2_b09 = glob.glob(os.path.join(s2_dir,\"**\",\"*B09_60m.jp2\"),recursive=True)\n",
    "    s2_b11 = glob.glob(os.path.join(s2_dir,\"**\",\"*B11_20m.jp2\"),recursive=True)\n",
    "    s2_b12 = glob.glob(os.path.join(s2_dir,\"**\",\"*B12_20m.jp2\"),recursive=True)\n",
    "\n",
    "    s2_b01 = s2_b01[0]\n",
    "    s2_b02 = s2_b02[0]\n",
    "    s2_b03 = s2_b03[0]\n",
    "    s2_b04 = s2_b04[0]\n",
    "    s2_b05 = s2_b05[0]\n",
    "    s2_b06 = s2_b06[0]\n",
    "    s2_b07 = s2_b07[0]\n",
    "    s2_b08 = s2_b08[0]\n",
    "    s2_b8a = s2_b8a[0]\n",
    "    s2_b09 = s2_b09[0]\n",
    "    s2_b11 = s2_b11[0]\n",
    "    s2_b12 = s2_b12[0]\n",
    "    \n",
    "    return {\"b01\":s2_b01,\"b02\":s2_b02,\"b03\":s2_b03,\"b04\":s2_b04,\"b05\":s2_b05,\n",
    "            \"b06\":s2_b06,\"b07\":s2_b07,\"b08\":s2_b08,\"b8a\":s2_b8a,\"b09\":s2_b09,\n",
    "            \"b11\":s2_b11,\"b12\":s2_b12}"
   ]
  },
  {
   "cell_type": "code",
   "execution_count": 4,
   "id": "45a79a46",
   "metadata": {},
   "outputs": [
    {
     "data": {
      "text/plain": [
       "{'b01': './S2B_MSIL2A_20230928T101719_N0509_R065_T32UPU_20230928T145710.SAFE/GRANULE/L2A_T32UPU_A034268_20230928T102123/IMG_DATA/R60m/T32UPU_20230928T101719_B01_60m.jp2',\n",
       " 'b02': './S2B_MSIL2A_20230928T101719_N0509_R065_T32UPU_20230928T145710.SAFE/GRANULE/L2A_T32UPU_A034268_20230928T102123/IMG_DATA/R10m/T32UPU_20230928T101719_B02_10m.jp2',\n",
       " 'b03': './S2B_MSIL2A_20230928T101719_N0509_R065_T32UPU_20230928T145710.SAFE/GRANULE/L2A_T32UPU_A034268_20230928T102123/IMG_DATA/R10m/T32UPU_20230928T101719_B03_10m.jp2',\n",
       " 'b04': './S2B_MSIL2A_20230928T101719_N0509_R065_T32UPU_20230928T145710.SAFE/GRANULE/L2A_T32UPU_A034268_20230928T102123/IMG_DATA/R10m/T32UPU_20230928T101719_B04_10m.jp2',\n",
       " 'b05': './S2B_MSIL2A_20230928T101719_N0509_R065_T32UPU_20230928T145710.SAFE/GRANULE/L2A_T32UPU_A034268_20230928T102123/IMG_DATA/R20m/T32UPU_20230928T101719_B05_20m.jp2',\n",
       " 'b06': './S2B_MSIL2A_20230928T101719_N0509_R065_T32UPU_20230928T145710.SAFE/GRANULE/L2A_T32UPU_A034268_20230928T102123/IMG_DATA/R20m/T32UPU_20230928T101719_B06_20m.jp2',\n",
       " 'b07': './S2B_MSIL2A_20230928T101719_N0509_R065_T32UPU_20230928T145710.SAFE/GRANULE/L2A_T32UPU_A034268_20230928T102123/IMG_DATA/R20m/T32UPU_20230928T101719_B07_20m.jp2',\n",
       " 'b08': './S2B_MSIL2A_20230928T101719_N0509_R065_T32UPU_20230928T145710.SAFE/GRANULE/L2A_T32UPU_A034268_20230928T102123/IMG_DATA/R10m/T32UPU_20230928T101719_B08_10m.jp2',\n",
       " 'b8a': './S2B_MSIL2A_20230928T101719_N0509_R065_T32UPU_20230928T145710.SAFE/GRANULE/L2A_T32UPU_A034268_20230928T102123/IMG_DATA/R20m/T32UPU_20230928T101719_B8A_20m.jp2',\n",
       " 'b09': './S2B_MSIL2A_20230928T101719_N0509_R065_T32UPU_20230928T145710.SAFE/GRANULE/L2A_T32UPU_A034268_20230928T102123/IMG_DATA/R60m/T32UPU_20230928T101719_B09_60m.jp2',\n",
       " 'b11': './S2B_MSIL2A_20230928T101719_N0509_R065_T32UPU_20230928T145710.SAFE/GRANULE/L2A_T32UPU_A034268_20230928T102123/IMG_DATA/R20m/T32UPU_20230928T101719_B11_20m.jp2',\n",
       " 'b12': './S2B_MSIL2A_20230928T101719_N0509_R065_T32UPU_20230928T145710.SAFE/GRANULE/L2A_T32UPU_A034268_20230928T102123/IMG_DATA/R20m/T32UPU_20230928T101719_B12_20m.jp2'}"
      ]
     },
     "execution_count": 4,
     "metadata": {},
     "output_type": "execute_result"
    }
   ],
   "source": [
    "locs_raw = get_S2_locations(\"./S2B_MSIL2A_20230928T101719_N0509_R065_T32UPU_20230928T145710.SAFE/\")\n",
    "locs_raw"
   ]
  },
  {
   "cell_type": "code",
   "execution_count": 5,
   "id": "956c3d31",
   "metadata": {},
   "outputs": [],
   "source": [
    "times = []\n",
    "\n",
    "# get the bounds of the raster\n",
    "with rio.open(locs_raw[\"b02\"],\"r\") as src:\n",
    "    bounds = src.bounds\n",
    "    transform = src.transform\n",
    "\n",
    "# load N random windows\n",
    "for i in range(numTrys):\n",
    "    \n",
    "    x0,y0 = np.random.randint(0,10980-patchsize,2)\n",
    "    new_left = bounds.left + x0*10\n",
    "    new_bottom = bounds.bottom + y0*10  \n",
    "    \n",
    "    t0 = time.time()\n",
    "    \n",
    "    tensor = []\n",
    "    for band in locs_raw.keys():\n",
    "        with rio.open(locs_raw[band],\"r\") as src:\n",
    "            \n",
    "            win = from_bounds(new_left,new_bottom,new_left+patchsize*10,new_bottom+patchsize*10,src.transform)\n",
    "            \n",
    "            if band in [\"b02\",\"b03\",\"b04\",\"b08\"]:\n",
    "                tensor.append( src.read(1, window=win) )\n",
    "                \n",
    "            else:\n",
    "                tensor.append( src.read(1, window=win, out_shape=(1,patchsize,patchsize), resampling=Resampling.cubic) )\n",
    "    \n",
    "    tensor = np.stack(tensor,axis=0)\n",
    "    \n",
    "    t1 = time.time()\n",
    "    \n",
    "    times.append(t1-t0)"
   ]
  },
  {
   "cell_type": "code",
   "execution_count": 6,
   "id": "64d54699",
   "metadata": {},
   "outputs": [
    {
     "data": {
      "text/plain": [
       "0.3675338365137577"
      ]
     },
     "execution_count": 6,
     "metadata": {},
     "output_type": "execute_result"
    }
   ],
   "source": [
    "np.mean(times)"
   ]
  },
  {
   "cell_type": "code",
   "execution_count": 7,
   "id": "c5bf6d0b",
   "metadata": {},
   "outputs": [
    {
     "data": {
      "text/plain": [
       "<matplotlib.collections.PathCollection at 0x7da71a19e580>"
      ]
     },
     "execution_count": 7,
     "metadata": {},
     "output_type": "execute_result"
    },
    {
     "data": {
      "image/png": "[encoded data removed]",
      "text/plain": [
       "<Figure size 432x288 with 1 Axes>"
      ]
     },
     "metadata": {
      "needs_background": "light"
     },
     "output_type": "display_data"
    }
   ],
   "source": [
    "plt.scatter(range(len(times)),times)"
   ]
  },
  {
   "cell_type": "markdown",
   "id": "74858025",
   "metadata": {},
   "source": [
    "# Make a geotiff with all data combined and load windows from there"
   ]
  },
  {
   "cell_type": "markdown",
   "id": "e5d21811",
   "metadata": {},
   "source": [
    "### without tiling"
   ]
  },
  {
   "cell_type": "code",
   "execution_count": 8,
   "id": "2d21c9cc",
   "metadata": {},
   "outputs": [],
   "source": [
    "tensor = []\n",
    "for band in locs_raw.keys():\n",
    "    with rio.open(locs_raw[band],\"r\") as src:\n",
    "\n",
    "        if band in [\"b02\",\"b03\",\"b04\",\"b08\"]:\n",
    "            tensor.append( src.read(1) )\n",
    "        else:\n",
    "            tensor.append( src.read(1, out_shape=(1,10980,10980),resampling=Resampling.cubic) )\n",
    "\n",
    "tensor = np.stack(tensor,axis=0)"
   ]
  },
  {
   "cell_type": "code",
   "execution_count": 9,
   "id": "ac08cf65",
   "metadata": {},
   "outputs": [
    {
     "data": {
      "text/plain": [
       "(12, 10980, 10980)"
      ]
     },
     "execution_count": 9,
     "metadata": {},
     "output_type": "execute_result"
    }
   ],
   "source": [
    "tensor.shape"
   ]
  },
  {
   "cell_type": "code",
   "execution_count": 10,
   "id": "0ef41fa9",
   "metadata": {},
   "outputs": [
    {
     "data": {
      "text/plain": [
       "{'driver': 'GTiff',\n",
       " 'dtype': 'uint16',\n",
       " 'nodata': None,\n",
       " 'width': 10980,\n",
       " 'height': 10980,\n",
       " 'count': 12,\n",
       " 'crs': CRS.from_epsg(32632),\n",
       " 'transform': Affine(10.0, 0.0, 600000.0,\n",
       "        0.0, -10.0, 5400000.0)}"
      ]
     },
     "execution_count": 10,
     "metadata": {},
     "output_type": "execute_result"
    }
   ],
   "source": [
    "with rio.open(locs_raw[\"b02\"],\"r\") as src:\n",
    "    meta = src.meta\n",
    "meta[\"driver\"]=\"GTiff\"\n",
    "meta[\"count\"]=12\n",
    "meta"
   ]
  },
  {
   "cell_type": "code",
   "execution_count": 11,
   "id": "be08e82f",
   "metadata": {},
   "outputs": [],
   "source": [
    "with rio.open(os.path.join(tempdir,\"S2cube.tif\"),\"w\",**meta) as dst:\n",
    "    dst.write(tensor)"
   ]
  },
  {
   "cell_type": "code",
   "execution_count": 12,
   "id": "da67aff3",
   "metadata": {},
   "outputs": [],
   "source": [
    "times = []\n",
    "\n",
    "# get the bounds of the raster\n",
    "with rio.open(os.path.join(tempdir,\"S2cube.tif\"),\"r\") as src:\n",
    "    bounds = src.bounds\n",
    "    transform = src.transform\n",
    "\n",
    "# load N random windows\n",
    "for i in range(numTrys):\n",
    "    \n",
    "    x0,y0 = np.random.randint(0,10980-patchsize,2)\n",
    "    new_left = bounds.left + x0*10\n",
    "    new_bottom = bounds.bottom + y0*10  \n",
    "    \n",
    "    t0 = time.time()\n",
    "\n",
    "    with rio.open(os.path.join(tempdir,\"S2cube.tif\"),\"r\") as src:\n",
    "\n",
    "        win = from_bounds(new_left,new_bottom,new_left+patchsize*10,new_bottom+patchsize*10,src.transform)\n",
    "\n",
    "        tensor = src.read(window=win)\n",
    "\n",
    "    t1 = time.time()\n",
    "    \n",
    "    times.append(t1-t0)"
   ]
  },
  {
   "cell_type": "code",
   "execution_count": 13,
   "id": "742dd61a",
   "metadata": {},
   "outputs": [
    {
     "data": {
      "text/plain": [
       "0.048505859449505806"
      ]
     },
     "execution_count": 13,
     "metadata": {},
     "output_type": "execute_result"
    }
   ],
   "source": [
    "np.mean(times)"
   ]
  },
  {
   "cell_type": "code",
   "execution_count": 14,
   "id": "a56fe14c",
   "metadata": {},
   "outputs": [
    {
     "data": {
      "text/plain": [
       "<matplotlib.collections.PathCollection at 0x7da719c476a0>"
      ]
     },
     "execution_count": 14,
     "metadata": {},
     "output_type": "execute_result"
    },
    {
     "data": {
      "image/png": "[encoded data removed]",
      "text/plain": [
       "<Figure size 432x288 with 1 Axes>"
      ]
     },
     "metadata": {
      "needs_background": "light"
     },
     "output_type": "display_data"
    }
   ],
   "source": [
    "plt.scatter(range(len(times)),times)"
   ]
  },
  {
   "cell_type": "markdown",
   "id": "04eaf1ac",
   "metadata": {},
   "source": [
    "### try with the tiled == True"
   ]
  },
  {
   "cell_type": "code",
   "execution_count": 15,
   "id": "0474ebbf",
   "metadata": {},
   "outputs": [],
   "source": [
    "with rio.open(locs_raw[\"b02\"],\"r\") as src:\n",
    "    meta = src.meta\n",
    "meta[\"driver\"]=\"GTiff\"\n",
    "meta[\"count\"]=12\n",
    "meta[\"tiled\"]=True\n",
    "meta[\"blocksize\"]=256\n",
    "\n",
    "with rio.open(os.path.join(tempdir,\"S2cubeTiled.tif\"),\"w\",**meta) as dst:\n",
    "    dst.write(tensor)"
   ]
  },
  {
   "cell_type": "code",
   "execution_count": 16,
   "id": "9e00c260",
   "metadata": {},
   "outputs": [],
   "source": [
    "times = []\n",
    "\n",
    "# get the bounds of the raster\n",
    "with rio.open(os.path.join(tempdir,\"S2cubeTiled.tif\"),\"r\") as src:\n",
    "    bounds = src.bounds\n",
    "    transform = src.transform\n",
    "\n",
    "# load N random windows\n",
    "for i in range(numTrys):\n",
    "    \n",
    "    x0,y0 = np.random.randint(0,10980-patchsize,2)\n",
    "    new_left = bounds.left + x0*10\n",
    "    new_bottom = bounds.bottom + y0*10  \n",
    "    \n",
    "    t0 = time.time()\n",
    "\n",
    "    with rio.open(os.path.join(tempdir,\"S2cubeTiled.tif\"),\"r\") as src:\n",
    "\n",
    "        win = from_bounds(new_left,new_bottom,new_left+patchsize*10,new_bottom+patchsize*10,src.transform)\n",
    "\n",
    "        tensor = src.read(window=win)\n",
    "\n",
    "    t1 = time.time()\n",
    "    \n",
    "    times.append(t1-t0)"
   ]
  },
  {
   "cell_type": "code",
   "execution_count": 17,
   "id": "44f673fa",
   "metadata": {},
   "outputs": [
    {
     "data": {
      "text/plain": [
       "0.004990484565496445"
      ]
     },
     "execution_count": 17,
     "metadata": {},
     "output_type": "execute_result"
    }
   ],
   "source": [
    "np.mean(times)"
   ]
  },
  {
   "cell_type": "code",
   "execution_count": 18,
   "id": "c5b3edbe",
   "metadata": {},
   "outputs": [
    {
     "data": {
      "text/plain": [
       "<matplotlib.collections.PathCollection at 0x7da719892160>"
      ]
     },
     "execution_count": 18,
     "metadata": {},
     "output_type": "execute_result"
    },
    {
     "data": {
      "image/png": "[encoded data removed]",
      "text/plain": [
       "<Figure size 432x288 with 1 Axes>"
      ]
     },
     "metadata": {
      "needs_background": "light"
     },
     "output_type": "display_data"
    }
   ],
   "source": [
    "plt.scatter(range(len(times)),times)"
   ]
  },
  {
   "cell_type": "markdown",
   "id": "1eebfbdc",
   "metadata": {},
   "source": [
    "### try with compression"
   ]
  },
  {
   "cell_type": "code",
   "execution_count": 28,
   "id": "a5138ea9",
   "metadata": {},
   "outputs": [],
   "source": [
    "with rio.open(locs_raw[\"b02\"],\"r\") as src:\n",
    "    meta = src.meta\n",
    "meta[\"driver\"]=\"GTiff\"\n",
    "meta[\"count\"]=12\n",
    "meta[\"tiled\"]=True\n",
    "meta[\"blocksize\"]=256\n",
    "meta[\"compress\"] = \"LZW\"\n",
    "\n",
    "with rio.open(os.path.join(tempdir,\"S2cubeTiledCompressed.tif\"),\"w\",**meta) as dst:\n",
    "    dst.write(tensor)"
   ]
  },
  {
   "cell_type": "code",
   "execution_count": 29,
   "id": "5c597b35",
   "metadata": {},
   "outputs": [],
   "source": [
    "times = []\n",
    "\n",
    "# get the bounds of the raster\n",
    "with rio.open(os.path.join(tempdir,\"S2cubeTiledCompressed.tif\"),\"r\") as src:\n",
    "    bounds = src.bounds\n",
    "    transform = src.transform\n",
    "\n",
    "# load N random windows\n",
    "for i in range(numTrys):\n",
    "    \n",
    "    x0,y0 = np.random.randint(0,10980-patchsize,2)\n",
    "    new_left = bounds.left + x0*10\n",
    "    new_bottom = bounds.bottom + y0*10  \n",
    "    \n",
    "    t0 = time.time()\n",
    "\n",
    "    with rio.open(os.path.join(tempdir,\"S2cubeTiledCompressed.tif\"),\"r\") as src:\n",
    "\n",
    "        win = from_bounds(new_left,new_bottom,new_left+patchsize*10,new_bottom+patchsize*10,src.transform)\n",
    "\n",
    "        tensor = src.read(window=win)\n",
    "\n",
    "    t1 = time.time()\n",
    "    \n",
    "    times.append(t1-t0)"
   ]
  },
  {
   "cell_type": "code",
   "execution_count": 30,
   "id": "93a11f6f",
   "metadata": {},
   "outputs": [
    {
     "data": {
      "text/plain": [
       "0.01619572378695011"
      ]
     },
     "execution_count": 30,
     "metadata": {},
     "output_type": "execute_result"
    }
   ],
   "source": [
    "np.mean(times)"
   ]
  },
  {
   "cell_type": "code",
   "execution_count": 31,
   "id": "83a5d448",
   "metadata": {},
   "outputs": [
    {
     "data": {
      "text/plain": [
       "<matplotlib.collections.PathCollection at 0x7da718e528e0>"
      ]
     },
     "execution_count": 31,
     "metadata": {},
     "output_type": "execute_result"
    },
    {
     "data": {
      "image/png": "[encoded data removed]",
      "text/plain": [
       "<Figure size 432x288 with 1 Axes>"
      ]
     },
     "metadata": {
      "needs_background": "light"
     },
     "output_type": "display_data"
    }
   ],
   "source": [
    "plt.scatter(range(len(times)),times)"
   ]
  },
  {
   "cell_type": "markdown",
   "id": "ed8fee1f",
   "metadata": {},
   "source": [
    "### find the best tiling blocksize"
   ]
  },
  {
   "cell_type": "code",
   "execution_count": 23,
   "id": "c5539dad",
   "metadata": {},
   "outputs": [
    {
     "name": "stdout",
     "output_type": "stream",
     "text": [
      "128 0.004993639886379242\n",
      "256 0.004993157461285591\n",
      "512 0.00489007867872715\n",
      "1024 0.004664447158575058\n",
      "2048 0.004816526547074318\n",
      "4096 0.004867414012551308\n"
     ]
    }
   ],
   "source": [
    "for BS in [128,256,512,1024,2048,4096]:\n",
    "    \n",
    "    with rio.open(locs_raw[\"b02\"],\"r\") as src:\n",
    "        meta = src.meta\n",
    "    meta[\"driver\"]=\"GTiff\"\n",
    "    meta[\"count\"]=12\n",
    "    meta[\"tiled\"]=True\n",
    "    meta[\"blocksize\"]=BS\n",
    "\n",
    "    with rio.open(os.path.join(tempdir,\"S2cubeTiled.tif\"),\"w\",**meta) as dst:\n",
    "        dst.write(tensor)\n",
    "        \n",
    "        \n",
    "    times = []\n",
    "\n",
    "    # get the bounds of the raster\n",
    "    with rio.open(os.path.join(tempdir,\"S2cubeTiled.tif\"),\"r\") as src:\n",
    "        bounds = src.bounds\n",
    "        transform = src.transform\n",
    "\n",
    "    # load N random windows\n",
    "    for i in range(numTrys):\n",
    "\n",
    "        x0,y0 = np.random.randint(0,10980-patchsize,2)\n",
    "        new_left = bounds.left + x0*10\n",
    "        new_bottom = bounds.bottom + y0*10  \n",
    "\n",
    "        t0 = time.time()\n",
    "\n",
    "        with rio.open(os.path.join(tempdir,\"S2cubeTiled.tif\"),\"r\") as src:\n",
    "\n",
    "            win = from_bounds(new_left,new_bottom,new_left+patchsize*10,new_bottom+patchsize*10,src.transform)\n",
    "\n",
    "            tensor = src.read(window=win)\n",
    "\n",
    "        t1 = time.time()\n",
    "\n",
    "        times.append(t1-t0)\n",
    "        \n",
    "    print(BS,np.mean(times))"
   ]
  },
  {
   "cell_type": "markdown",
   "id": "908b1a9d",
   "metadata": {},
   "source": [
    "# loading patches from hdf5 file"
   ]
  },
  {
   "cell_type": "markdown",
   "id": "e1b467c6",
   "metadata": {},
   "source": [
    "### generate data"
   ]
  },
  {
   "cell_type": "code",
   "execution_count": 24,
   "id": "c3e0621b",
   "metadata": {},
   "outputs": [],
   "source": [
    "# get the bounds of the raster\n",
    "with rio.open(os.path.join(tempdir,\"S2cubeTiled.tif\"),\"r\") as src:\n",
    "    bounds = src.bounds\n",
    "    transform = src.transform\n",
    "\n",
    "locs = []\n",
    "\n",
    "with h5py.File(os.path.join(tempdir,'S2patches.h5'), 'w') as hdf:\n",
    "    # load N random windows\n",
    "    for i in range(5000):\n",
    "        x0,y0 = np.random.randint(0,10980-patchsize,2)\n",
    "        new_left = bounds.left + x0*10\n",
    "        new_bottom = bounds.bottom + y0*10  \n",
    "        with rio.open(os.path.join(tempdir,\"S2cubeTiled.tif\"),\"r\") as src:\n",
    "            win = from_bounds(new_left,new_bottom,new_left+patchsize*10,new_bottom+patchsize*10,src.transform)\n",
    "            tensor = src.read(window=win)\n",
    "            hdf.create_dataset(f'dataset_{i}', data=tensor)"
   ]
  },
  {
   "cell_type": "markdown",
   "id": "aaa6591c",
   "metadata": {},
   "source": [
    "### perform read"
   ]
  },
  {
   "cell_type": "code",
   "execution_count": 25,
   "id": "fd0c4c94",
   "metadata": {},
   "outputs": [],
   "source": [
    "times = []\n",
    "\n",
    "# load N random windows\n",
    "for i in range(numTrys):\n",
    "\n",
    "    j = np.random.randint(0,5000)\n",
    "\n",
    "    t0 = time.time()\n",
    "    \n",
    "    with h5py.File(os.path.join(tempdir,'S2patches.h5'), 'r') as hdf:\n",
    "        data = hdf[f'dataset_{j}'][:]\n",
    "\n",
    "    t1 = time.time()\n",
    "\n",
    "    times.append(t1-t0)"
   ]
  },
  {
   "cell_type": "code",
   "execution_count": 26,
   "id": "e82ecd87",
   "metadata": {},
   "outputs": [
    {
     "data": {
      "text/plain": [
       "0.0009703878313302994"
      ]
     },
     "execution_count": 26,
     "metadata": {},
     "output_type": "execute_result"
    }
   ],
   "source": [
    "np.mean(times)"
   ]
  },
  {
   "cell_type": "code",
   "execution_count": 27,
   "id": "953e484b",
   "metadata": {},
   "outputs": [
    {
     "data": {
      "text/plain": [
       "<matplotlib.collections.PathCollection at 0x7da718ee4160>"
      ]
     },
     "execution_count": 27,
     "metadata": {},
     "output_type": "execute_result"
    },
    {
     "data": {
      "image/png": "[encoded data removed]",
      "text/plain": [
       "<Figure size 432x288 with 1 Axes>"
      ]
     },
     "metadata": {
      "needs_background": "light"
     },
     "output_type": "display_data"
    }
   ],
   "source": [
    "plt.scatter(range(len(times)),times)"
   ]
  },
  {
   "cell_type": "code",
   "execution_count": null,
   "id": "4bdf1985",
   "metadata": {},
   "outputs": [],
   "source": []
  }
 ],
 "metadata": {
  "kernelspec": {
   "display_name": "Python 3 (ipykernel)",
   "language": "python",
   "name": "python3"
  },
  "language_info": {
   "codemirror_mode": {
    "name": "ipython",
    "version": 3
   },
   "file_extension": ".py",
   "mimetype": "text/x-python",
   "name": "python",
   "nbconvert_exporter": "python",
   "pygments_lexer": "ipython3",
   "version": "3.9.7"
  }
 },
 "nbformat": 4,
 "nbformat_minor": 5
}
